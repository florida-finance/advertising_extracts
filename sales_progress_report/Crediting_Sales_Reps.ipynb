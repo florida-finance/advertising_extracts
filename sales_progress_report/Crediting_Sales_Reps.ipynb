{
 "cells": [
  {
   "cell_type": "code",
   "execution_count": 1,
   "metadata": {},
   "outputs": [
    {
     "data": {
      "text/html": [
       "<style>.container { width:100% !important; }</style>"
      ],
      "text/plain": [
       "<IPython.core.display.HTML object>"
      ]
     },
     "metadata": {},
     "output_type": "display_data"
    }
   ],
   "source": [
    "from IPython.core.display import display, HTML\n",
    "display(HTML(\"<style>.container { width:100% !important; }</style>\"))"
   ]
  },
  {
   "cell_type": "code",
   "execution_count": 5,
   "metadata": {},
   "outputs": [],
   "source": [
    "# https://en.wikipedia.org/wiki/ADOdb\n",
    "\n",
    "#Packages\n",
    "import pandas as pd\n",
    "from datetime import datetime, timedelta, date\n",
    "import pandas.io.sql as psql\n",
    "import pandasql\n",
    "from sqlalchemy import create_engine\n",
    "from sqlalchemy import MetaData\n",
    "import time\n",
    "import win32com.client\n",
    "from sqlalchemy.sql import text as sa_text\n",
    "\n",
    "connString = \"PROVIDER=MSOLAP;Data Source={0};Database={1}\".format('fcwPsqlanl03','TMModelingCube')\n",
    "def ado(strsql, connString):\n",
    "    rs = win32com.client.Dispatch(r'ADODB.Recordset')\n",
    "    rs.Open(strsql, connString)\n",
    "    t = rs.GetRows()\n",
    "    rs.Close()\n",
    "    return t\n",
    "\n",
    "#Define Connection to Postgres Database\n",
    "hostname = 'mktstrategy.ciklurvi0auw.us-east-1.rds.amazonaws.com'\n",
    "username = 'tronc'\n",
    "password = 'tronc123123!'\n",
    "database = 'Crediting'\n",
    "port=5432\n",
    "\n",
    "def connect(user, password, db, host, port=5432):\n",
    "    url  = 'postgresql://{}:{}@{}:{}/{}'\n",
    "    url = url.format(user, password, host, port, db)\n",
    "\n",
    "    # The return value of create_engine() is our connection object\n",
    "    con = create_engine(url, client_encoding='utf8')\n",
    "    return con\n",
    "c =connect(username, password, database, hostname)"
   ]
  },
  {
   "cell_type": "code",
   "execution_count": 7,
   "metadata": {},
   "outputs": [],
   "source": [
    "#Digital Revenue by SA ID from Crediting for 2018+\n",
    "query = ' SELECT NON EMPTY { [Measures].[Net] } ON COLUMNS, NON EMPTY { ([Order].[Dispute Reason Groups].[Dispute Reason Code].ALLMEMBERS ) } DIMENSION PROPERTIES MEMBER_CAPTION, MEMBER_UNIQUE_NAME ON ROWS FROM ( SELECT ( { [TM Sales Assignment].[SA ID].&[SA00003] } ) ON COLUMNS FROM [Territory Management Modeling]) WHERE ( [TM Sales Assignment].[SA ID].&[SA00003] ) CELL PROPERTIES VALUE, BACK_COLOR, FORE_COLOR, FORMATTED_VALUE, FORMAT_STRING, FONT_NAME, FONT_SIZE, FONT_FLAGS'\n",
    "a = ado(query, connString)\n",
    "df = pd.DataFrame(data= list(a)).transpose()\n",
    "# df.rename(columns = {0:'sa_id', 2:'sub_team', 4:'fiscal_period', 6:'commission_net_dig'},inplace=True)\n",
    "# df = df[['sa_id','sub_team', 'fiscal_period', 'commission_net_dig']]\n",
    "# df['fiscal_year'] = df.fiscal_period.apply(lambda x: x[0:4])\n",
    "# df['fiscal_period'] = df.fiscal_period.apply(lambda x: int(x[-2:]))\n",
    "# df = df[['sa_id', 'sub_team', 'fiscal_year', 'fiscal_period', 'commission_net_dig']]\n",
    "# digital = df.copy()"
   ]
  },
  {
   "cell_type": "code",
   "execution_count": 8,
   "metadata": {},
   "outputs": [
    {
     "data": {
      "text/html": [
       "<div>\n",
       "<style scoped>\n",
       "    .dataframe tbody tr th:only-of-type {\n",
       "        vertical-align: middle;\n",
       "    }\n",
       "\n",
       "    .dataframe tbody tr th {\n",
       "        vertical-align: top;\n",
       "    }\n",
       "\n",
       "    .dataframe thead th {\n",
       "        text-align: right;\n",
       "    }\n",
       "</style>\n",
       "<table border=\"1\" class=\"dataframe\">\n",
       "  <thead>\n",
       "    <tr style=\"text-align: right;\">\n",
       "      <th></th>\n",
       "      <th>0</th>\n",
       "      <th>1</th>\n",
       "      <th>2</th>\n",
       "      <th>3</th>\n",
       "      <th>4</th>\n",
       "      <th>5</th>\n",
       "      <th>6</th>\n",
       "    </tr>\n",
       "  </thead>\n",
       "  <tbody>\n",
       "    <tr>\n",
       "      <th>0</th>\n",
       "      <td>Undefined</td>\n",
       "      <td>[Order].[Dispute Reason Groups].[Dispute Reaso...</td>\n",
       "      <td>Undefined</td>\n",
       "      <td>[Order].[Dispute Reason Groups].[Dispute Reaso...</td>\n",
       "      <td>Undefined</td>\n",
       "      <td>[Order].[Dispute Reason Groups].[Dispute Reaso...</td>\n",
       "      <td>883.3</td>\n",
       "    </tr>\n",
       "  </tbody>\n",
       "</table>\n",
       "</div>"
      ],
      "text/plain": [
       "           0                                                  1          2  \\\n",
       "0  Undefined  [Order].[Dispute Reason Groups].[Dispute Reaso...  Undefined   \n",
       "\n",
       "                                                   3          4  \\\n",
       "0  [Order].[Dispute Reason Groups].[Dispute Reaso...  Undefined   \n",
       "\n",
       "                                                   5      6  \n",
       "0  [Order].[Dispute Reason Groups].[Dispute Reaso...  883.3  "
      ]
     },
     "execution_count": 8,
     "metadata": {},
     "output_type": "execute_result"
    }
   ],
   "source": [
    "df"
   ]
  },
  {
   "cell_type": "code",
   "execution_count": 4,
   "metadata": {},
   "outputs": [],
   "source": [
    "#All IN by SA ID from Crediting for 2018+\n",
    "query = ' SELECT NON EMPTY { [Measures].[Commission Net] } ON COLUMNS, NON EMPTY { ([Credit Sales Assignment].[Sales Assignment Code].[Sales Assignment Code].ALLMEMBERS * [Credit Sales Assignment].[Sales Assignment Sub Team ID].[Sales Assignment Sub Team ID].ALLMEMBERS * [Reporting Date].[Fiscal Period].[Fiscal Period].ALLMEMBERS ) } DIMENSION PROPERTIES MEMBER_CAPTION, MEMBER_UNIQUE_NAME ON ROWS FROM ( SELECT ( -{ [Credit Sales Assignment].[Sales Assignment Code].&[0] } ) ON COLUMNS FROM ( SELECT ( { [Reporting Date].[Fiscal Year].&[2018], [Reporting Date].[Fiscal Year].&[2019] } ) ON COLUMNS FROM ( SELECT ( -{ [Product].[Product Type].&[Direct Mail] } ) ON COLUMNS FROM ( SELECT ( -{ [Order].[Sales Status].&[4] } ) ON COLUMNS FROM ( SELECT ( -{ [Order].[Sales Type].&[101] } ) ON COLUMNS FROM ( SELECT ( -{ [Order].[Order Kind].&[Trade] } ) ON COLUMNS FROM ( SELECT ( { [Company].[Company Code].&[MOT], [Company].[Company Code].&[SSC], [Company].[Company Code].&[OSC] } ) ON COLUMNS FROM [Crediting]))))))) WHERE ( [Company].[Company Code].CurrentMember, [Reporting Date].[Fiscal Year].CurrentMember ) CELL PROPERTIES VALUE, BACK_COLOR, FORE_COLOR, FORMATTED_VALUE, FORMAT_STRING, FONT_NAME, FONT_SIZE, FONT_FLAGS'\n",
    "a = ado(query, connString)\n",
    "df = pd.DataFrame(data= list(a)).transpose()\n",
    "df.rename(columns = {0:'sa_id', 2:'sub_team', 4:'fiscal_period', 6:'commission_net_all'},inplace=True)\n",
    "df = df[['sa_id', 'sub_team', 'fiscal_period', 'commission_net_all']]\n",
    "df['fiscal_year'] = df.fiscal_period.apply(lambda x: x[0:4])\n",
    "df['fiscal_period'] = df.fiscal_period.apply(lambda x: int(x[-2:]))\n",
    "df = df[['sa_id', 'sub_team', 'fiscal_year', 'fiscal_period', 'commission_net_all']]\n",
    "all_in = df.copy()"
   ]
  },
  {
   "cell_type": "code",
   "execution_count": 5,
   "metadata": {},
   "outputs": [],
   "source": [
    "results = all_in.merge(digital, how='left', on=['sa_id', 'fiscal_year', 'fiscal_period'])\n",
    "results['commission_net_print'] = results['commission_net_all'] - results['commission_net_dig']\n",
    "results.fillna(0,inplace=True)"
   ]
  },
  {
   "cell_type": "code",
   "execution_count": 6,
   "metadata": {},
   "outputs": [],
   "source": [
    "connString = \"PROVIDER=MSOLAP;Data Source={0};Database={1}\".format('fcwPsqlanl03','TMModelingCube')\n",
    "#Digital Revenue by SA ID from TM Modeling for 2017\n",
    "query = 'SELECT NON EMPTY { [Measures].[Commission Net] } ON COLUMNS, NON EMPTY { ([TM Sales Assignment].[SA ID].[SA ID].ALLMEMBERS *[TM Sales Assignment].[Sales Assignment Sub Team].[Sales Assignment Sub Team].ALLMEMBERS *[Reporting Date].[Fiscal Period].[Fiscal Period].ALLMEMBERS ) } DIMENSION PROPERTIES MEMBER_CAPTION, MEMBER_UNIQUE_NAME ON ROWS FROM ( SELECT ( { [Reporting Date].[Fiscal Year].&[2017] } ) ON COLUMNS FROM ( SELECT ( -{ [TM Sales Assignment].[SA ID].&[Missing] } ) ON COLUMNS FROM ( SELECT ( { [Product].[Product Type].&[Alternative Digital], [Product].[Product Type].&[Online] } ) ON COLUMNS FROM ( SELECT ( -{ [Order].[Sales Type].&[101] } ) ON COLUMNS FROM ( SELECT ( { [Order].[Sales Status].&[3] } ) ON COLUMNS FROM ( SELECT ( -{ [Order].[Order Kind].&[Trade] } ) ON COLUMNS FROM ( SELECT ( { [Company].[Company Code].&[OSC], [Company].[Company Code].&[SSC], [Company].[Company Code].&[MOT] } ) ON COLUMNS FROM [Territory Management Modeling]))))))) WHERE ( [Company].[Company Code].CurrentMember, [Order].[Sales Status].&[3], [Product].[Product Type].CurrentMember, [Reporting Date].[Fiscal Year].&[2017] ) CELL PROPERTIES VALUE, BACK_COLOR, FORE_COLOR, FORMATTED_VALUE, FORMAT_STRING, FONT_NAME, FONT_SIZE, FONT_FLAGS'\n",
    "a = ado(query, connString)\n",
    "df = pd.DataFrame(data= list(a)).transpose()\n",
    "df.rename(columns = {0:'sa_id', 2:'sub_team', 4:'fiscal_period', 6:'commission_net_dig'},inplace=True)\n",
    "df = df[['sa_id', 'sub_team', 'fiscal_period', 'commission_net_dig']]\n",
    "df['fiscal_year'] = df.fiscal_period.apply(lambda x: x[0:4])\n",
    "df['fiscal_period'] = df.fiscal_period.apply(lambda x: int(x[-2:]))\n",
    "df = df[['sa_id', 'sub_team', 'fiscal_year', 'fiscal_period', 'commission_net_dig']]\n",
    "digital = df.copy()"
   ]
  },
  {
   "cell_type": "code",
   "execution_count": 7,
   "metadata": {},
   "outputs": [],
   "source": [
    "#All IN by SA ID from from TM Modeling for 2017\n",
    "query = ' SELECT NON EMPTY { [Measures].[Commission Net] } ON COLUMNS, NON EMPTY { ([TM Sales Assignment].[SA ID].[SA ID].ALLMEMBERS * [TM Sales Assignment].[Sales Assignment Sub Team].[Sales Assignment Sub Team].ALLMEMBERS *  [Reporting Date].[Fiscal Period].[Fiscal Period].ALLMEMBERS ) } DIMENSION PROPERTIES MEMBER_CAPTION, MEMBER_UNIQUE_NAME ON ROWS FROM ( SELECT ( { [Reporting Date].[Fiscal Year].&[2017] } ) ON COLUMNS FROM ( SELECT ( -{ [TM Sales Assignment].[SA ID].&[Missing] } ) ON COLUMNS FROM ( SELECT ( -{ [Product].[Product Type].&[Direct Mail] } ) ON COLUMNS FROM ( SELECT ( -{ [Order].[Sales Type].&[101] } ) ON COLUMNS FROM ( SELECT ( { [Order].[Sales Status].&[3] } ) ON COLUMNS FROM ( SELECT ( -{ [Order].[Order Kind].&[Trade] } ) ON COLUMNS FROM ( SELECT ( { [Company].[Company Code].&[OSC], [Company].[Company Code].&[SSC], [Company].[Company Code].&[MOT] } ) ON COLUMNS FROM [Territory Management Modeling]))))))) WHERE ( [Company].[Company Code].CurrentMember, [Order].[Sales Status].&[3], [Reporting Date].[Fiscal Year].&[2017] ) CELL PROPERTIES VALUE, BACK_COLOR, FORE_COLOR, FORMATTED_VALUE, FORMAT_STRING, FONT_NAME, FONT_SIZE, FONT_FLAGS'\n",
    "a = ado(query, connString)\n",
    "df = pd.DataFrame(data= list(a)).transpose()\n",
    "df.rename(columns = {0:'sa_id', 2:'sub_team', 4:'fiscal_period', 6:'commission_net_all'},inplace=True)\n",
    "df = df[['sa_id','sub_team', 'fiscal_period', 'commission_net_all']]\n",
    "df['fiscal_year'] = df.fiscal_period.apply(lambda x: x[0:4])\n",
    "df['fiscal_period'] = df.fiscal_period.apply(lambda x: int(x[-2:]))\n",
    "df = df[['sa_id', 'sub_team','fiscal_year', 'fiscal_period', 'commission_net_all']]\n",
    "all_in = df.copy()"
   ]
  },
  {
   "cell_type": "code",
   "execution_count": 8,
   "metadata": {},
   "outputs": [],
   "source": [
    "results2 = all_in.merge(digital, how='left', on=['sa_id', 'fiscal_year', 'fiscal_period'])\n",
    "results2['commission_net_print'] = results2['commission_net_all'] - results2['commission_net_dig']\n",
    "results2.fillna(0,inplace=True)"
   ]
  },
  {
   "cell_type": "code",
   "execution_count": 9,
   "metadata": {},
   "outputs": [],
   "source": [
    "results['asof_date'] = datetime.today().strftime('%Y-%m-%d')\n",
    "results2['asof_date'] = datetime.today().strftime('%Y-%m-%d')"
   ]
  },
  {
   "cell_type": "code",
   "execution_count": 10,
   "metadata": {},
   "outputs": [],
   "source": [
    "results = results[['sa_id','fiscal_year', 'fiscal_period',\n",
    "       'commission_net_all', 'commission_net_dig',\n",
    "       'commission_net_print', 'asof_date', 'sub_team_x']]\n",
    "\n",
    "results2 = results2[['sa_id','fiscal_year', 'fiscal_period',\n",
    "       'commission_net_all', 'commission_net_dig',\n",
    "       'commission_net_print', 'asof_date', 'sub_team_x']]\n",
    "\n",
    "results.rename(columns = {'sub_team_x':'sub_team'}, inplace=True)\n",
    "results2.rename(columns = {'sub_team_x':'sub_team'}, inplace=True)"
   ]
  },
  {
   "cell_type": "code",
   "execution_count": 11,
   "metadata": {},
   "outputs": [
    {
     "data": {
      "text/plain": [
       "<sqlalchemy.engine.result.ResultProxy at 0x273c8dca0b8>"
      ]
     },
     "execution_count": 11,
     "metadata": {},
     "output_type": "execute_result"
    }
   ],
   "source": [
    "#delete today's records\n",
    "today_date = datetime.today().strftime('%Y-%m-%d')\n",
    "query = \"DELETE FROM commission_sales WHERE asof_date = '{}\".format(today_date)+\"'\"\n",
    "c.execute(sa_text(query).execution_options(autocommit=True))"
   ]
  },
  {
   "cell_type": "code",
   "execution_count": 12,
   "metadata": {},
   "outputs": [],
   "source": [
    "results.to_sql('commission_sales', c, if_exists='append', index=False)\n",
    "results2.to_sql('commission_sales', c, if_exists='append', index=False)"
   ]
  },
  {
   "cell_type": "code",
   "execution_count": null,
   "metadata": {},
   "outputs": [],
   "source": []
  }
 ],
 "metadata": {
  "kernelspec": {
   "display_name": "Python 3",
   "language": "python",
   "name": "python3"
  },
  "language_info": {
   "codemirror_mode": {
    "name": "ipython",
    "version": 3
   },
   "file_extension": ".py",
   "mimetype": "text/x-python",
   "name": "python",
   "nbconvert_exporter": "python",
   "pygments_lexer": "ipython3",
   "version": "3.6.5"
  }
 },
 "nbformat": 4,
 "nbformat_minor": 2
}
